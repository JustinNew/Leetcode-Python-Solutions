{
 "cells": [
  {
   "cell_type": "code",
   "execution_count": 5,
   "metadata": {
    "collapsed": false
   },
   "outputs": [
    {
     "name": "stdout",
     "output_type": "stream",
     "text": [
      "Find value: 2 3\n"
     ]
    }
   ],
   "source": [
    "# Find a int in an increasing Matrix.\n",
    "# Row increase from left to right.\n",
    "# Column increase from top to bottom.\n",
    "import numpy as np\n",
    "\n",
    "def Search():\n",
    "    a = np.array([[1,3,5,7,9],[10,12,14,16,18],[19,21,23,25,27],[28,30,32,34,36]])\n",
    "    v = 25\n",
    "    m = len(a[:,0])\n",
    "    n = len(a[0,:])\n",
    "\n",
    "    i = 0\n",
    "    j = m-1\n",
    "    while i<=j:\n",
    "        mid = (i+j)/2\n",
    "        if a[mid,n-1]==v:\n",
    "            print 'Find value:', mid, n-1\n",
    "            return\n",
    "        elif a[mid,n-1]>v:\n",
    "            j=mid-1\n",
    "        else:\n",
    "            i=mid+1\n",
    "\n",
    "    l = 0\n",
    "    k = n-1\n",
    "    while l<=k:\n",
    "        mid = (l+k)/2\n",
    "        if a[i,mid]==v:\n",
    "            print 'Find value:', i, mid\n",
    "            return\n",
    "        elif a[i,mid]>v:\n",
    "            k = mid-1\n",
    "        else:\n",
    "            l = mid+1\n",
    "\n",
    "    print 'Value is not found.'\n",
    "    return\n",
    "\n",
    "if __name__ == '__main__':\n",
    "    Search()"
   ]
  },
  {
   "cell_type": "code",
   "execution_count": null,
   "metadata": {
    "collapsed": true
   },
   "outputs": [],
   "source": []
  }
 ],
 "metadata": {
  "anaconda-cloud": {},
  "kernelspec": {
   "display_name": "Python [Root]",
   "language": "python",
   "name": "Python [Root]"
  },
  "language_info": {
   "codemirror_mode": {
    "name": "ipython",
    "version": 2
   },
   "file_extension": ".py",
   "mimetype": "text/x-python",
   "name": "python",
   "nbconvert_exporter": "python",
   "pygments_lexer": "ipython2",
   "version": "2.7.12"
  }
 },
 "nbformat": 4,
 "nbformat_minor": 0
}
